{
  "nbformat": 4,
  "nbformat_minor": 0,
  "metadata": {
    "colab": {
      "name": "Untitled2.ipynb",
      "version": "0.3.2",
      "views": {},
      "default_view": {},
      "provenance": []
    },
    "kernelspec": {
      "name": "python3",
      "display_name": "Python 3"
    },
    "accelerator": "GPU"
  },
  "cells": [
    {
      "metadata": {
        "id": "fUFYf4wY7M5h",
        "colab_type": "code",
        "colab": {
          "autoexec": {
            "startup": false,
            "wait_interval": 0
          },
          "base_uri": "https://localhost:8080/",
          "height": 343
        },
        "outputId": "9f46fb02-b453-49bb-ef18-67d99c9f4ec3",
        "executionInfo": {
          "status": "ok",
          "timestamp": 1533218222529,
          "user_tz": -540,
          "elapsed": 4786,
          "user": {
            "displayName": "Arai Kouki",
            "photoUrl": "https://lh3.googleusercontent.com/a/default-user=s128",
            "userId": "103987615461137667317"
          }
        }
      },
      "cell_type": "code",
      "source": [
        "!pip install --upgrade keras\n",
        "!pip install opencv-python"
      ],
      "execution_count": 1,
      "outputs": [
        {
          "output_type": "stream",
          "text": [
            "Collecting keras\n",
            "\u001b[?25l  Downloading https://files.pythonhosted.org/packages/34/7d/b1dedde8af99bd82f20ed7e9697aac0597de3049b1f786aa2aac3b9bd4da/Keras-2.2.2-py2.py3-none-any.whl (299kB)\n",
            "\u001b[K    100% |████████████████████████████████| 307kB 5.0MB/s \n",
            "\u001b[?25hCollecting keras-preprocessing==1.0.2 (from keras)\n",
            "  Downloading https://files.pythonhosted.org/packages/71/26/1e778ebd737032749824d5cba7dbd3b0cf9234b87ab5ec79f5f0403ca7e9/Keras_Preprocessing-1.0.2-py2.py3-none-any.whl\n",
            "Requirement already satisfied, skipping upgrade: h5py in /usr/local/lib/python3.6/dist-packages (from keras) (2.8.0)\n",
            "Requirement already satisfied, skipping upgrade: six>=1.9.0 in /usr/local/lib/python3.6/dist-packages (from keras) (1.11.0)\n",
            "Requirement already satisfied, skipping upgrade: numpy>=1.9.1 in /usr/local/lib/python3.6/dist-packages (from keras) (1.14.5)\n",
            "Requirement already satisfied, skipping upgrade: pyyaml in /usr/local/lib/python3.6/dist-packages (from keras) (3.13)\n",
            "Collecting keras-applications==1.0.4 (from keras)\n",
            "\u001b[?25l  Downloading https://files.pythonhosted.org/packages/54/90/8f327deaa37a71caddb59b7b4aaa9d4b3e90c0e76f8c2d1572005278ddc5/Keras_Applications-1.0.4-py2.py3-none-any.whl (43kB)\n",
            "\u001b[K    100% |████████████████████████████████| 51kB 9.6MB/s \n",
            "\u001b[?25hRequirement already satisfied, skipping upgrade: scipy>=0.14 in /usr/local/lib/python3.6/dist-packages (from keras) (0.19.1)\n",
            "Installing collected packages: keras-preprocessing, keras-applications, keras\n",
            "  Found existing installation: Keras 2.1.6\n",
            "    Uninstalling Keras-2.1.6:\n",
            "      Successfully uninstalled Keras-2.1.6\n",
            "Successfully installed keras-2.2.2 keras-applications-1.0.4 keras-preprocessing-1.0.2\n"
          ],
          "name": "stdout"
        }
      ]
    },
    {
      "metadata": {
        "id": "qQ73eX317USK",
        "colab_type": "code",
        "colab": {
          "autoexec": {
            "startup": false,
            "wait_interval": 0
          }
        }
      },
      "cell_type": "code",
      "source": [
        "import keras\n",
        "from keras.models import Model\n",
        "from keras.layers import Input, UpSampling2D, MaxPool2D, Activation\n",
        "from keras.layers.convolutional import Conv2D\n",
        "from keras.layers.merge import Add\n",
        "from keras.optimizers import Adam\n",
        "from keras.datasets.cifar10 import load_data\n",
        "import cv2\n",
        "import numpy as np"
      ],
      "execution_count": 0,
      "outputs": []
    },
    {
      "metadata": {
        "id": "FInSZ-FW7ie9",
        "colab_type": "code",
        "colab": {
          "autoexec": {
            "startup": false,
            "wait_interval": 0
          }
        }
      },
      "cell_type": "code",
      "source": [
        "class DDSRCNN(object):\n",
        "  def __init__(self, rows=32, cols=32, channels=3):\n",
        "    self.rows = rows\n",
        "    self.cols = cols\n",
        "    self.channels = channels\n",
        "    self.model = self._make_model()\n",
        "    optimizer = Adam(lr=0.0001, beta_1=0.1)\n",
        "    self.model.compile(loss=\"mse\", optimizer=optimizer)\n",
        "    \n",
        "  def _make_model(self):\n",
        "    image_shape  = (self.rows, self.cols, self.channels)\n",
        "    inputs = Input(shape=image_shape)\n",
        "    conv1 = Conv2D(filters=64, kernel_size=(3,3), padding=\"same\")(inputs)\n",
        "    conv1 = Conv2D(filters=64, kernel_size=(3,3), padding=\"same\")(conv1)\n",
        "    \n",
        "    # conv2\n",
        "    conv2 = MaxPool2D(pool_size=(2,2))(conv1)\n",
        "    conv2 = Conv2D(filters=128, kernel_size=(3,3), padding=\"same\")(conv2)\n",
        "    conv2 = Conv2D(filters=128, kernel_size=(3,3), padding=\"same\")(conv2)\n",
        "    \n",
        "    # conv3\n",
        "    conv3 = MaxPool2D(pool_size=(2,2))(conv2)\n",
        "    conv3 = Conv2D(filters=256, kernel_size=(3,3), padding=\"same\")(conv3)\n",
        "    \n",
        "    out = UpSampling2D(size=(2,2))(conv3)\n",
        "    out = Conv2D(filters=128, kernel_size=(3,3), padding=\"same\")(out)\n",
        "    out = Conv2D(filters=128, kernel_size=(3,3), padding=\"same\")(out)\n",
        "    out = Add()([out, conv2])\n",
        "    out = Activation(\"relu\")(out)\n",
        "    out = UpSampling2D(size=(2,2))(out)\n",
        "    out = Conv2D(filters=64, kernel_size=(3,3), padding=\"same\")(out)\n",
        "    out = Conv2D(filters=64, kernel_size=(3,3), padding=\"same\")(out)\n",
        "    out = Add()([out, conv1])\n",
        "    out = Activation(\"relu\")(out)\n",
        "    out = Conv2D(filters=self.channels, kernel_size=(3,3), padding=\"same\")(out)\n",
        "    \n",
        "    model = Model(inputs=inputs, outputs=out)\n",
        "    model.summary()\n",
        "    return model\n",
        "    \n",
        "  def train(self, epochs=50):\n",
        "    (X_train, _), (X_test, _) = load_data()    \n",
        "    X_train_noise = [cv2.GaussianBlur(img, ksize=(3,3), sigmaX=1.3) for img in X_train]\n",
        "    X_train_noise = np.array(X_train_noise)\n",
        "    X_train_noise = (X_train_noise.astype(np.float32) - 127.5) / 127.5\n",
        "    X_train = (X_train.astype(np.float32) - 127.5) / 127.5\n",
        "    self.model.fit(X_train_noise, X_train, epochs=epochs, validation_split=0.1, batch_size=128)\n",
        "    self.model.save(\"DDSRCNN.h5\")\n",
        "    from google.colab import files\n",
        "    files.download(\"DDSRCNN.h5\") "
      ],
      "execution_count": 0,
      "outputs": []
    },
    {
      "metadata": {
        "id": "S30EcDml9T-V",
        "colab_type": "code",
        "colab": {
          "autoexec": {
            "startup": false,
            "wait_interval": 0
          },
          "base_uri": "https://localhost:8080/",
          "height": 1922
        },
        "outputId": "78b4605c-f8a7-4f71-cd62-7fd911c139ec",
        "executionInfo": {
          "status": "error",
          "timestamp": 1533224735718,
          "user_tz": -540,
          "elapsed": 666253,
          "user": {
            "displayName": "Arai Kouki",
            "photoUrl": "https://lh3.googleusercontent.com/a/default-user=s128",
            "userId": "103987615461137667317"
          }
        }
      },
      "cell_type": "code",
      "source": [
        "model = DDSRCNN()\n",
        "model.train(epochs=14)"
      ],
      "execution_count": 45,
      "outputs": [
        {
          "output_type": "stream",
          "text": [
            "__________________________________________________________________________________________________\n",
            "Layer (type)                    Output Shape         Param #     Connected to                     \n",
            "==================================================================================================\n",
            "input_14 (InputLayer)           (None, 32, 32, 3)    0                                            \n",
            "__________________________________________________________________________________________________\n",
            "conv2d_121 (Conv2D)             (None, 32, 32, 64)   1792        input_14[0][0]                   \n",
            "__________________________________________________________________________________________________\n",
            "conv2d_122 (Conv2D)             (None, 32, 32, 64)   36928       conv2d_121[0][0]                 \n",
            "__________________________________________________________________________________________________\n",
            "max_pooling2d_26 (MaxPooling2D) (None, 16, 16, 64)   0           conv2d_122[0][0]                 \n",
            "__________________________________________________________________________________________________\n",
            "conv2d_123 (Conv2D)             (None, 16, 16, 128)  73856       max_pooling2d_26[0][0]           \n",
            "__________________________________________________________________________________________________\n",
            "conv2d_124 (Conv2D)             (None, 16, 16, 128)  147584      conv2d_123[0][0]                 \n",
            "__________________________________________________________________________________________________\n",
            "max_pooling2d_27 (MaxPooling2D) (None, 8, 8, 128)    0           conv2d_124[0][0]                 \n",
            "__________________________________________________________________________________________________\n",
            "conv2d_125 (Conv2D)             (None, 8, 8, 256)    295168      max_pooling2d_27[0][0]           \n",
            "__________________________________________________________________________________________________\n",
            "up_sampling2d_23 (UpSampling2D) (None, 16, 16, 256)  0           conv2d_125[0][0]                 \n",
            "__________________________________________________________________________________________________\n",
            "conv2d_126 (Conv2D)             (None, 16, 16, 128)  295040      up_sampling2d_23[0][0]           \n",
            "__________________________________________________________________________________________________\n",
            "conv2d_127 (Conv2D)             (None, 16, 16, 128)  147584      conv2d_126[0][0]                 \n",
            "__________________________________________________________________________________________________\n",
            "add_23 (Add)                    (None, 16, 16, 128)  0           conv2d_127[0][0]                 \n",
            "                                                                 conv2d_124[0][0]                 \n",
            "__________________________________________________________________________________________________\n",
            "activation_11 (Activation)      (None, 16, 16, 128)  0           add_23[0][0]                     \n",
            "__________________________________________________________________________________________________\n",
            "up_sampling2d_24 (UpSampling2D) (None, 32, 32, 128)  0           activation_11[0][0]              \n",
            "__________________________________________________________________________________________________\n",
            "conv2d_128 (Conv2D)             (None, 32, 32, 64)   73792       up_sampling2d_24[0][0]           \n",
            "__________________________________________________________________________________________________\n",
            "conv2d_129 (Conv2D)             (None, 32, 32, 64)   36928       conv2d_128[0][0]                 \n",
            "__________________________________________________________________________________________________\n",
            "add_24 (Add)                    (None, 32, 32, 64)   0           conv2d_129[0][0]                 \n",
            "                                                                 conv2d_122[0][0]                 \n",
            "__________________________________________________________________________________________________\n",
            "activation_12 (Activation)      (None, 32, 32, 64)   0           add_24[0][0]                     \n",
            "__________________________________________________________________________________________________\n",
            "conv2d_130 (Conv2D)             (None, 32, 32, 3)    1731        activation_12[0][0]              \n",
            "==================================================================================================\n",
            "Total params: 1,110,403\n",
            "Trainable params: 1,110,403\n",
            "Non-trainable params: 0\n",
            "__________________________________________________________________________________________________\n",
            "Train on 45000 samples, validate on 5000 samples\n",
            "Epoch 1/14\n",
            " 2432/45000 [>.............................] - ETA: 1:01 - loss: 0.0913"
          ],
          "name": "stdout"
        },
        {
          "output_type": "stream",
          "text": [
            "45000/45000 [==============================] - 48s 1ms/step - loss: 0.0206 - val_loss: 0.0095\n",
            "Epoch 2/14\n",
            "45000/45000 [==============================] - 47s 1ms/step - loss: 0.0080 - val_loss: 0.0069\n",
            "Epoch 3/14\n",
            " 6784/45000 [===>..........................] - ETA: 38s - loss: 0.0068"
          ],
          "name": "stdout"
        },
        {
          "output_type": "stream",
          "text": [
            "45000/45000 [==============================] - 47s 1ms/step - loss: 0.0063 - val_loss: 0.0059\n",
            "Epoch 4/14\n",
            "45000/45000 [==============================] - 47s 1ms/step - loss: 0.0073 - val_loss: 0.0053\n",
            "Epoch 5/14\n",
            " 7936/45000 [====>.........................] - ETA: 37s - loss: 0.0054"
          ],
          "name": "stdout"
        },
        {
          "output_type": "stream",
          "text": [
            "45000/45000 [==============================] - 47s 1ms/step - loss: 0.0052 - val_loss: 0.0049\n",
            "Epoch 6/14\n",
            "45000/45000 [==============================] - 47s 1ms/step - loss: 0.0048 - val_loss: 0.0046\n",
            "Epoch 7/14\n",
            " 8192/45000 [====>.........................] - ETA: 37s - loss: 0.0046"
          ],
          "name": "stdout"
        },
        {
          "output_type": "stream",
          "text": [
            "45000/45000 [==============================] - 47s 1ms/step - loss: 0.0045 - val_loss: 0.0043\n",
            "Epoch 8/14\n",
            "45000/45000 [==============================] - 47s 1ms/step - loss: 0.0042 - val_loss: 0.0040\n",
            "Epoch 9/14\n",
            " 8320/45000 [====>.........................] - ETA: 37s - loss: 0.0043"
          ],
          "name": "stdout"
        },
        {
          "output_type": "stream",
          "text": [
            "45000/45000 [==============================] - 47s 1ms/step - loss: 0.0039 - val_loss: 0.0037\n",
            "Epoch 10/14\n",
            "45000/45000 [==============================] - 47s 1ms/step - loss: 0.0037 - val_loss: 0.0034\n",
            "Epoch 11/14\n",
            " 8064/45000 [====>.........................] - ETA: 37s - loss: 0.0035"
          ],
          "name": "stdout"
        },
        {
          "output_type": "stream",
          "text": [
            "45000/45000 [==============================] - 47s 1ms/step - loss: 0.0034 - val_loss: 0.0032\n",
            "Epoch 12/14\n",
            "45000/45000 [==============================] - 47s 1ms/step - loss: 0.0031 - val_loss: 0.0031\n",
            "Epoch 13/14\n",
            " 8064/45000 [====>.........................] - ETA: 37s - loss: 0.0031"
          ],
          "name": "stdout"
        },
        {
          "output_type": "stream",
          "text": [
            "45000/45000 [==============================] - 47s 1ms/step - loss: 0.3267 - val_loss: 0.0420\n",
            "Epoch 14/14\n",
            "45000/45000 [==============================] - 47s 1ms/step - loss: 0.0169 - val_loss: 0.0108\n"
          ],
          "name": "stdout"
        },
        {
          "output_type": "error",
          "ename": "MessageError",
          "evalue": "ignored",
          "traceback": [
            "\u001b[0;31m---------------------------------------------------------------------------\u001b[0m",
            "\u001b[0;31mMessageError\u001b[0m                              Traceback (most recent call last)",
            "\u001b[0;32m<ipython-input-45-1da8f7f1cb4f>\u001b[0m in \u001b[0;36m<module>\u001b[0;34m()\u001b[0m\n\u001b[1;32m      1\u001b[0m \u001b[0mmodel\u001b[0m \u001b[0;34m=\u001b[0m \u001b[0mDDSRCNN\u001b[0m\u001b[0;34m(\u001b[0m\u001b[0;34m)\u001b[0m\u001b[0;34m\u001b[0m\u001b[0m\n\u001b[0;32m----> 2\u001b[0;31m \u001b[0mmodel\u001b[0m\u001b[0;34m.\u001b[0m\u001b[0mtrain\u001b[0m\u001b[0;34m(\u001b[0m\u001b[0mepochs\u001b[0m\u001b[0;34m=\u001b[0m\u001b[0;36m14\u001b[0m\u001b[0;34m)\u001b[0m\u001b[0;34m\u001b[0m\u001b[0m\n\u001b[0m",
            "\u001b[0;32m<ipython-input-44-9864942384f4>\u001b[0m in \u001b[0;36mtrain\u001b[0;34m(self, epochs)\u001b[0m\n\u001b[1;32m     48\u001b[0m     \u001b[0mself\u001b[0m\u001b[0;34m.\u001b[0m\u001b[0mmodel\u001b[0m\u001b[0;34m.\u001b[0m\u001b[0msave\u001b[0m\u001b[0;34m(\u001b[0m\u001b[0;34m\"DDSRCNN.h5\"\u001b[0m\u001b[0;34m)\u001b[0m\u001b[0;34m\u001b[0m\u001b[0m\n\u001b[1;32m     49\u001b[0m     \u001b[0;32mfrom\u001b[0m \u001b[0mgoogle\u001b[0m\u001b[0;34m.\u001b[0m\u001b[0mcolab\u001b[0m \u001b[0;32mimport\u001b[0m \u001b[0mfiles\u001b[0m\u001b[0;34m\u001b[0m\u001b[0m\n\u001b[0;32m---> 50\u001b[0;31m     \u001b[0mfiles\u001b[0m\u001b[0;34m.\u001b[0m\u001b[0mdownload\u001b[0m\u001b[0;34m(\u001b[0m\u001b[0;34m\"DDSRCNN.h5\"\u001b[0m\u001b[0;34m)\u001b[0m\u001b[0;34m\u001b[0m\u001b[0m\n\u001b[0m",
            "\u001b[0;32m/usr/local/lib/python3.6/dist-packages/google/colab/files.py\u001b[0m in \u001b[0;36mdownload\u001b[0;34m(filename)\u001b[0m\n\u001b[1;32m    174\u001b[0m       \u001b[0;34m'port'\u001b[0m\u001b[0;34m:\u001b[0m \u001b[0mport\u001b[0m\u001b[0;34m,\u001b[0m\u001b[0;34m\u001b[0m\u001b[0m\n\u001b[1;32m    175\u001b[0m       \u001b[0;34m'path'\u001b[0m\u001b[0;34m:\u001b[0m \u001b[0mos\u001b[0m\u001b[0;34m.\u001b[0m\u001b[0mpath\u001b[0m\u001b[0;34m.\u001b[0m\u001b[0mabspath\u001b[0m\u001b[0;34m(\u001b[0m\u001b[0mfilename\u001b[0m\u001b[0;34m)\u001b[0m\u001b[0;34m,\u001b[0m\u001b[0;34m\u001b[0m\u001b[0m\n\u001b[0;32m--> 176\u001b[0;31m       \u001b[0;34m'name'\u001b[0m\u001b[0;34m:\u001b[0m \u001b[0mos\u001b[0m\u001b[0;34m.\u001b[0m\u001b[0mpath\u001b[0m\u001b[0;34m.\u001b[0m\u001b[0mbasename\u001b[0m\u001b[0;34m(\u001b[0m\u001b[0mfilename\u001b[0m\u001b[0;34m)\u001b[0m\u001b[0;34m,\u001b[0m\u001b[0;34m\u001b[0m\u001b[0m\n\u001b[0m\u001b[1;32m    177\u001b[0m   })\n",
            "\u001b[0;32m/usr/local/lib/python3.6/dist-packages/google/colab/output/_js.py\u001b[0m in \u001b[0;36meval_js\u001b[0;34m(script, ignore_result)\u001b[0m\n\u001b[1;32m     37\u001b[0m   \u001b[0;32mif\u001b[0m \u001b[0mignore_result\u001b[0m\u001b[0;34m:\u001b[0m\u001b[0;34m\u001b[0m\u001b[0m\n\u001b[1;32m     38\u001b[0m     \u001b[0;32mreturn\u001b[0m\u001b[0;34m\u001b[0m\u001b[0m\n\u001b[0;32m---> 39\u001b[0;31m   \u001b[0;32mreturn\u001b[0m \u001b[0m_message\u001b[0m\u001b[0;34m.\u001b[0m\u001b[0mread_reply_from_input\u001b[0m\u001b[0;34m(\u001b[0m\u001b[0mrequest_id\u001b[0m\u001b[0;34m)\u001b[0m\u001b[0;34m\u001b[0m\u001b[0m\n\u001b[0m\u001b[1;32m     40\u001b[0m \u001b[0;34m\u001b[0m\u001b[0m\n\u001b[1;32m     41\u001b[0m \u001b[0;34m\u001b[0m\u001b[0m\n",
            "\u001b[0;32m/usr/local/lib/python3.6/dist-packages/google/colab/_message.py\u001b[0m in \u001b[0;36mread_reply_from_input\u001b[0;34m(message_id, timeout_sec)\u001b[0m\n\u001b[1;32m    104\u001b[0m         reply.get('colab_msg_id') == message_id):\n\u001b[1;32m    105\u001b[0m       \u001b[0;32mif\u001b[0m \u001b[0;34m'error'\u001b[0m \u001b[0;32min\u001b[0m \u001b[0mreply\u001b[0m\u001b[0;34m:\u001b[0m\u001b[0;34m\u001b[0m\u001b[0m\n\u001b[0;32m--> 106\u001b[0;31m         \u001b[0;32mraise\u001b[0m \u001b[0mMessageError\u001b[0m\u001b[0;34m(\u001b[0m\u001b[0mreply\u001b[0m\u001b[0;34m[\u001b[0m\u001b[0;34m'error'\u001b[0m\u001b[0;34m]\u001b[0m\u001b[0;34m)\u001b[0m\u001b[0;34m\u001b[0m\u001b[0m\n\u001b[0m\u001b[1;32m    107\u001b[0m       \u001b[0;32mreturn\u001b[0m \u001b[0mreply\u001b[0m\u001b[0;34m.\u001b[0m\u001b[0mget\u001b[0m\u001b[0;34m(\u001b[0m\u001b[0;34m'data'\u001b[0m\u001b[0;34m,\u001b[0m \u001b[0;32mNone\u001b[0m\u001b[0;34m)\u001b[0m\u001b[0;34m\u001b[0m\u001b[0m\n\u001b[1;32m    108\u001b[0m \u001b[0;34m\u001b[0m\u001b[0m\n",
            "\u001b[0;31mMessageError\u001b[0m: TypeError: Failed to fetch"
          ]
        }
      ]
    },
    {
      "metadata": {
        "id": "8pF41_wzFRaT",
        "colab_type": "text"
      },
      "cell_type": "markdown",
      "source": [
        ""
      ]
    },
    {
      "metadata": {
        "id": "9NdXaYulORYf",
        "colab_type": "code",
        "colab": {
          "autoexec": {
            "startup": false,
            "wait_interval": 0
          }
        }
      },
      "cell_type": "code",
      "source": [
        "from google.colab import files"
      ],
      "execution_count": 0,
      "outputs": []
    },
    {
      "metadata": {
        "id": "HNPXGxUNVbsF",
        "colab_type": "code",
        "colab": {
          "autoexec": {
            "startup": false,
            "wait_interval": 0
          }
        }
      },
      "cell_type": "code",
      "source": [
        "files.download(\"./DDSRCNN.h5\n",
        "               \")"
      ],
      "execution_count": 0,
      "outputs": []
    }
  ]
}